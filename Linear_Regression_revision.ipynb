{
  "nbformat": 4,
  "nbformat_minor": 0,
  "metadata": {
    "colab": {
      "name": "Linear Regression_revision.ipynb",
      "provenance": [],
      "include_colab_link": true
    },
    "kernelspec": {
      "name": "python3",
      "display_name": "Python 3"
    }
  },
  "cells": [
    {
      "cell_type": "markdown",
      "metadata": {
        "id": "view-in-github",
        "colab_type": "text"
      },
      "source": [
        "<a href=\"https://colab.research.google.com/github/ShobhitShah-DataScientist/360learning/blob/master/Linear_Regression_revision.ipynb\" target=\"_parent\"><img src=\"https://colab.research.google.com/assets/colab-badge.svg\" alt=\"Open In Colab\"/></a>"
      ]
    },
    {
      "cell_type": "markdown",
      "metadata": {
        "id": "8H_NIpNNUdSn",
        "colab_type": "text"
      },
      "source": [
        "Linear Regression \n",
        "\n",
        "The code that you see in this notebook as part of UPX course , \n",
        "\n",
        "- LR is linear model \n",
        "- It can solve regression problem \n",
        "- It has some assumptions \n",
        "  - Assumption 1 \n",
        "  - Assumption 2\n",
        "\n",
        "\n",
        "This diagram explains the equation very well \n",
        "![alt text](https://miro.medium.com/max/750/1*9ugqVJMy3Ah-Go_WPOm3LQ.png)\n",
        "source: https://medium.com/data-science-group-iitr/linear-regression-back-to-basics-e4819829d78b\n",
        "\n",
        "\n",
        "\n",
        "\n",
        "This workflow is good for P Value \n",
        "![alt text](https://miro.medium.com/max/568/1*Xvk51LsxoYHu43k589ZTVg.png)\n",
        "\n",
        "source: https://medium.com/data-science-group-iitr/linear-regression-back-to-basics-e4819829d78b\n",
        "\n"
      ]
    },
    {
      "cell_type": "markdown",
      "metadata": {
        "id": "-hauKhnbVhkg",
        "colab_type": "text"
      },
      "source": [
        "Now, lets code \n"
      ]
    },
    {
      "cell_type": "code",
      "metadata": {
        "id": "4bG919jWUdAR",
        "colab_type": "code",
        "colab": {}
      },
      "source": [
        "# import lib\n",
        "\n",
        "\n",
        "# reading data\n",
        "# Data could same as handson \n",
        "# if you do have time \n",
        "    - Take data from Kaggle \n",
        "\n",
        "# doing EDA \n",
        "\n",
        "# bar chart to see the distribution \n",
        "# In my view, i think, to know the bias in my data, looking into bar chart of my target variable will be helpful \n",
        "\n",
        "\n",
        "# Tranforming Data \n",
        "\n",
        "\n",
        "# running models \n"
      ],
      "execution_count": 0,
      "outputs": []
    },
    {
      "cell_type": "code",
      "metadata": {
        "id": "5PeIGOzvUbPv",
        "colab_type": "code",
        "colab": {}
      },
      "source": [
        ""
      ],
      "execution_count": 0,
      "outputs": []
    },
    {
      "cell_type": "markdown",
      "metadata": {
        "id": "-lQRPFfjdI1-",
        "colab_type": "text"
      },
      "source": [
        "Github Profile : \n",
        "\t- Capstone Project \n",
        "        - Python Experiment \n",
        "\t- Tableu Experiment \n",
        "\t- Supervised Learning \n",
        "\t\t- Classification \n",
        "\t\t\t- Imbalance Data (Fraud) \n",
        "\t\t\t- MultiClass Problem \n",
        "\t\t\t- Binary Problem \n",
        "\t\t- Regression \n",
        "\t\t\t- Lienar Model s\n",
        "\t\t\t- Non Linear Models \n",
        "\n",
        "\t- Unsupervised \n",
        "\t\t- Clustering Example ( k-Means) \n",
        "\t\t- PCA & LDA \n",
        "\t- NLP \n",
        "\t- CV \n",
        "\t- DL "
      ]
    }
  ]
}